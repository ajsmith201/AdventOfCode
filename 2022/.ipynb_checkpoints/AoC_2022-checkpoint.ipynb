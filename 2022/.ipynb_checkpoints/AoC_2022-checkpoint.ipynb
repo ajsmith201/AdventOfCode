{
 "cells": [
  {
   "cell_type": "markdown",
   "metadata": {},
   "source": [
    "# Import Statements and Parse Functions"
   ]
  },
  {
   "cell_type": "code",
   "execution_count": 1,
   "metadata": {},
   "outputs": [],
   "source": [
    "from aocd.models import Puzzle"
   ]
  },
  {
   "cell_type": "code",
   "execution_count": 2,
   "metadata": {},
   "outputs": [],
   "source": [
    "puzzle = Puzzle(year=2022, day=2)"
   ]
  },
  {
   "cell_type": "code",
   "execution_count": 3,
   "metadata": {},
   "outputs": [],
   "source": [
    "import pathlib\n",
    "import sys"
   ]
  },
  {
   "cell_type": "code",
   "execution_count": 7,
   "metadata": {},
   "outputs": [],
   "source": [
    "def parse_numbers(puzzle_input):\n",
    "    \"\"\"Parse input.\"\"\"\n",
    "    return [int(line) for line in puzzle_input.split()]"
   ]
  },
  {
   "cell_type": "code",
   "execution_count": 9,
   "metadata": {},
   "outputs": [],
   "source": [
    "def parse_pairs(puzzle_input):\n",
    "    \"\"\"Parse input.\"\"\"\n",
    "    return [pair for pair in puzzle_input.splitlines()]"
   ]
  },
  {
   "cell_type": "code",
   "execution_count": 40,
   "metadata": {},
   "outputs": [],
   "source": [
    "def parse_groups(puzzle_input):\n",
    "    \"Parse input into groups and then into individual numbers.\"\n",
    "    return [[int(line) for line in block.splitlines()]\n",
    "    for block in puzzle_input.split(\"\\n\\n\")]"
   ]
  },
  {
   "cell_type": "code",
   "execution_count": null,
   "metadata": {},
   "outputs": [],
   "source": []
  },
  {
   "cell_type": "markdown",
   "metadata": {},
   "source": [
    "# Working"
   ]
  },
  {
   "cell_type": "code",
   "execution_count": null,
   "metadata": {},
   "outputs": [],
   "source": []
  },
  {
   "cell_type": "markdown",
   "metadata": {},
   "source": [
    "# Day One"
   ]
  },
  {
   "cell_type": "code",
   "execution_count": 72,
   "metadata": {},
   "outputs": [
    {
     "name": "stdout",
     "output_type": "stream",
     "text": [
      "67633\n",
      "199628\n"
     ]
    }
   ],
   "source": [
    "def parse_groups(puzzle_input):\n",
    "    \"Parse input into groups and then into individual numbers.\"\n",
    "    return [[int(line) for line in block.splitlines()]\n",
    "    for block in puzzle_input.split(\"\\n\\n\")]\n",
    "\n",
    "calories = parse_groups(puzzle.input_data)\n",
    "\n",
    "cal_list = [sum(c) for c in calories]\n",
    "print (max(cal_list))\n",
    "\n",
    "cal_list.sort(reverse=True)\n",
    "print (sum(cal_list[:3]))"
   ]
  },
  {
   "cell_type": "markdown",
   "metadata": {},
   "source": [
    "# Day Two"
   ]
  },
  {
   "cell_type": "markdown",
   "metadata": {},
   "source": [
    "A = rock\n",
    "B = paper\n",
    "C = scissors\n",
    "\n",
    "X = LOSE\n",
    "Y = DRAW\n",
    "Z = WIN\n",
    "\n",
    "POINTS:\n",
    "win +6\n",
    "draw +3\n",
    "lose +0\n",
    "\n",
    "rock +1\n",
    "paper +2\n",
    "scissors +3\n",
    "\n",
    "\n",
    " LOSE (scissors) v rock   'A X' : 3,\n",
    " DRAW (rock) v rock   'A Y' : 4,\n",
    " WIN (paper) v rock   'A Z' : 8,\n",
    " LOSE (r) v paper   'B X' : 1,\n",
    " DRAW (p) v paper   'B Y' : 5,\n",
    " WIN (s) v paper   'B Z' : 9,\n",
    " LOSE (p) v scissors   'C X' : 2,\n",
    " DRAW (s) v scissors   'C Y' : 6,\n",
    " WIN (r) v scissors   'C Z' : 7\n",
    "\n",
    "\n",
    "X MEANS LOSE\n",
    "Y MEANS DRAW\n",
    "Z MEANS WIN"
   ]
  },
  {
   "cell_type": "code",
   "execution_count": 30,
   "metadata": {},
   "outputs": [
    {
     "name": "stdout",
     "output_type": "stream",
     "text": [
      "12276\n",
      "9975\n"
     ]
    }
   ],
   "source": [
    "def parse_pairs(puzzle_input):\n",
    "    \"\"\"Parse input.\"\"\"\n",
    "    return [pair for pair in puzzle_input.splitlines()]\n",
    "\n",
    "pairs = parse_pairs(puzzle.input_data)\n",
    "\n",
    "score_dict = {\n",
    "    'A X' : 4,\n",
    "    'A Y' : 8,\n",
    "    'A Z' : 3,\n",
    "    'B X' : 1,\n",
    "    'B Y' : 5,\n",
    "    'B Z' : 9,\n",
    "    'C X' : 7,\n",
    "    'C Y' : 2,\n",
    "    'C Z' : 6\n",
    "}\n",
    "\n",
    "score = 0\n",
    "for pair in pairs:\n",
    "    score += score_dict[pair]\n",
    "print(score)\n",
    "\n",
    "second_dict = {\n",
    "    'A X' : 3,\n",
    "    'A Y' : 4,\n",
    "    'A Z' : 8,\n",
    "    'B X' : 1,\n",
    "    'B Y' : 5,\n",
    "    'B Z' : 9,\n",
    "    'C X' : 2,\n",
    "    'C Y' : 6,\n",
    "    'C Z' : 7\n",
    "}\n",
    "second_score = 0\n",
    "for pair in pairs:\n",
    "    second_score += second_dict[pair]\n",
    "print(second_score)"
   ]
  },
  {
   "cell_type": "code",
   "execution_count": null,
   "metadata": {},
   "outputs": [],
   "source": []
  },
  {
   "cell_type": "code",
   "execution_count": null,
   "metadata": {},
   "outputs": [],
   "source": []
  },
  {
   "cell_type": "code",
   "execution_count": null,
   "metadata": {
    "scrolled": true
   },
   "outputs": [],
   "source": []
  }
 ],
 "metadata": {
  "kernelspec": {
   "display_name": "Python 3",
   "language": "python",
   "name": "python3"
  },
  "language_info": {
   "codemirror_mode": {
    "name": "ipython",
    "version": 3
   },
   "file_extension": ".py",
   "mimetype": "text/x-python",
   "name": "python",
   "nbconvert_exporter": "python",
   "pygments_lexer": "ipython3",
   "version": "3.8.3"
  }
 },
 "nbformat": 4,
 "nbformat_minor": 4
}
